{
  "nbformat": 4,
  "nbformat_minor": 0,
  "metadata": {
    "colab": {
      "provenance": [],
      "authorship_tag": "ABX9TyMX6TsNYlq6rsw7uHmQxqUX",
      "include_colab_link": true
    },
    "kernelspec": {
      "name": "python3",
      "display_name": "Python 3"
    },
    "language_info": {
      "name": "python"
    }
  },
  "cells": [
    {
      "cell_type": "markdown",
      "metadata": {
        "id": "view-in-github",
        "colab_type": "text"
      },
      "source": [
        "<a href=\"https://colab.research.google.com/github/Disha4346/Bharat-Intern/blob/main/Housing_Bharat.ipynb\" target=\"_parent\"><img src=\"https://colab.research.google.com/assets/colab-badge.svg\" alt=\"Open In Colab\"/></a>"
      ]
    },
    {
      "cell_type": "markdown",
      "source": [
        "# House Price Prediction Model\n",
        "\n",
        "This repository contains a machine learning project for predicting house prices using Python, scikit-learn, and TensorFlow. The model uses a neural network to predict house prices based on various features.\n",
        "\n",
        "## Dataset\n",
        "\n",
        "The dataset used for this project is from [Kaggle's Housing Prices Dataset](https://www.kaggle.com/datasets/yasserh/housing-prices-dataset/data). Please download the dataset and place the `housing.csv` file in the root directory of this project.\n",
        "\n",
        "## Requirements\n",
        "\n",
        "- Python 3.6+\n",
        "- Pandas\n",
        "- NumPy\n",
        "- Matplotlib\n",
        "- Seaborn\n",
        "- scikit-learn\n",
        "- TensorFlow\n",
        "\n",
        "You can install the required packages using pip:\n",
        "\n",
        "```bash\n",
        "pip install pandas numpy matplotlib seaborn scikit-learn tensorflow\n"
      ],
      "metadata": {
        "id": "v5GIewkeMVDi"
      }
    },
    {
      "cell_type": "markdown",
      "source": [
        "**Code Explanation**:\n",
        "\n",
        "\n",
        "1)Import Libraries: Import necessary libraries for data\n",
        "manipulation, visualization, and building the machine learning model.\n",
        "\n",
        "2)Load the Dataset: Load the dataset into a Pandas DataFrame and display the first few rows.\n",
        "\n",
        "3)Check Column Names: Display the column names to identify the correct target column.\n",
        "\n",
        "4) Handle Missing Values: Remove rows with missing values.\n",
        "\n",
        "5)Separate Features and Target Variable: Identify the target column and separate features (X) and target (y).\n",
        "6)Split the Data: Split the data into training and testing sets.\n",
        "\n",
        "7)Standardize the Features: Standardize the feature data.\n",
        "\n",
        "8)Build and Compile the Model: Define and compile the neural network model.\n",
        "\n",
        "9)Train the Model: Train the model on the training data.\n",
        "\n",
        "10)Evaluate the Model: Predict on the test set and evaluate the model.\n",
        "\n",
        "11)Plot Training History: Plot the training and validation loss.\n",
        "\n",
        "12)Save the Model: Save the trained model using the native Keras format."
      ],
      "metadata": {
        "id": "zkFikBqQKzo7"
      }
    },
    {
      "cell_type": "markdown",
      "source": [
        " **Running the Code**\n",
        "\n",
        "Ensure you have the dataset file (housing.csv) in the project root directory.\n",
        "\n",
        "Run the house_price_prediction.py script to train and evaluate the model.\n",
        "\n",
        "*bash*\n",
        "```\n",
        "python house_price_prediction.py\n",
        "```\n",
        "The script will output the mean squared error of the model and display a plot of the training history. The trained model will be saved as house_price_prediction_model.keras.\n"
      ],
      "metadata": {
        "id": "GW5wTDMrMirv"
      }
    },
    {
      "cell_type": "markdown",
      "source": [
        "**Usage Instructions**\n",
        "\n",
        "1)Clone the repository.\n",
        "\n",
        "2)Download the dataset and place housing.csv in the root directory.\n",
        "\n",
        "3)Install the required packages.\n",
        "\n",
        "4)Run the house_price_prediction.py script to train the model and evaluate its performance.\n",
        "\n",
        "\n",
        "\n",
        "\n",
        "\n"
      ],
      "metadata": {
        "id": "vhIhWCkXNGqf"
      }
    },
    {
      "cell_type": "code",
      "execution_count": null,
      "metadata": {
        "id": "Wuzf6AeYyUvS"
      },
      "outputs": [],
      "source": [
        "import pandas as pd\n",
        "import numpy as np\n",
        "import matplotlib.pyplot as plt\n",
        "import seaborn as sns\n",
        "from sklearn.model_selection import train_test_split\n",
        "from sklearn.preprocessing import StandardScaler\n",
        "from sklearn.metrics import mean_squared_error\n",
        "import tensorflow as tf\n",
        "from tensorflow.keras.models import Sequential\n",
        "from tensorflow.keras.layers import Dense\n"
      ]
    },
    {
      "cell_type": "code",
      "source": [
        "# Load the dataset\n",
        "data = pd.read_csv('Housing.csv')\n",
        "\n",
        "# Display the first few rows of the dataset\n",
        "print(data.head())\n"
      ],
      "metadata": {
        "colab": {
          "base_uri": "https://localhost:8080/"
        },
        "id": "0tOMCGI2zUXY",
        "outputId": "9a6ef6b8-2f62-4722-c851-5c476554dfc2"
      },
      "execution_count": null,
      "outputs": [
        {
          "output_type": "stream",
          "name": "stdout",
          "text": [
            "      price  area  bedrooms  bathrooms  stories mainroad guestroom basement  \\\n",
            "0  13300000  7420         4          2        3      yes        no       no   \n",
            "1  12250000  8960         4          4        4      yes        no       no   \n",
            "2  12250000  9960         3          2        2      yes        no      yes   \n",
            "3  12215000  7500         4          2        2      yes        no      yes   \n",
            "4  11410000  7420         4          1        2      yes       yes      yes   \n",
            "\n",
            "  hotwaterheating airconditioning  parking prefarea furnishingstatus  \n",
            "0              no             yes        2      yes        furnished  \n",
            "1              no             yes        3       no        furnished  \n",
            "2              no              no        2      yes   semi-furnished  \n",
            "3              no             yes        3      yes        furnished  \n",
            "4              no             yes        2       no        furnished  \n"
          ]
        }
      ]
    },
    {
      "cell_type": "code",
      "source": [
        "# Handle missing values\n",
        "data = data.dropna()\n",
        "\n",
        "# Separate features and target variable\n",
        "X = data.drop('area', axis=1)\n",
        "y = data['area']\n",
        "#print(X)\n",
        "#print(y)\n",
        "# One-hot encoding for categorical variables (if any)\n",
        "X = pd.get_dummies(X)\n",
        "\n",
        "# Split the data into training and testing sets\n",
        "X_train, X_test, y_train, y_test = train_test_split(X, y, test_size=0.2, random_state=42)\n",
        "\n",
        "# Standardize the features\n",
        "scaler = StandardScaler()\n",
        "X_train = scaler.fit_transform(X_train)\n",
        "X_test = scaler.transform(X_test)\n"
      ],
      "metadata": {
        "id": "gpKL_N6UzeNe"
      },
      "execution_count": null,
      "outputs": []
    },
    {
      "cell_type": "code",
      "source": [
        "# Define the neural network model\n",
        "model = Sequential()\n",
        "model.add(Dense(64, input_dim=X_train.shape[1], activation='relu'))\n",
        "model.add(Dense(32, activation='relu'))\n",
        "model.add(Dense(1))\n",
        "\n",
        "# Compile the model\n",
        "model.compile(optimizer='adam', loss='mean_squared_error')\n"
      ],
      "metadata": {
        "id": "xPuaCYw_-foM"
      },
      "execution_count": null,
      "outputs": []
    },
    {
      "cell_type": "code",
      "source": [
        "history = model.fit(X_train, y_train, epochs=100, batch_size=10, validation_split=0.2)\n"
      ],
      "metadata": {
        "colab": {
          "base_uri": "https://localhost:8080/"
        },
        "id": "sfSyUrPcI_2V",
        "outputId": "8c0748a7-af53-4a7f-da34-6b1985adabcb"
      },
      "execution_count": null,
      "outputs": [
        {
          "output_type": "stream",
          "name": "stdout",
          "text": [
            "Epoch 1/100\n",
            "35/35 [==============================] - 3s 13ms/step - loss: 32803014.0000 - val_loss: 25850996.0000\n",
            "Epoch 2/100\n",
            "35/35 [==============================] - 0s 5ms/step - loss: 32765958.0000 - val_loss: 25802888.0000\n",
            "Epoch 3/100\n",
            "35/35 [==============================] - 0s 13ms/step - loss: 32684470.0000 - val_loss: 25696826.0000\n",
            "Epoch 4/100\n",
            "35/35 [==============================] - 0s 11ms/step - loss: 32515320.0000 - val_loss: 25487270.0000\n",
            "Epoch 5/100\n",
            "35/35 [==============================] - 0s 4ms/step - loss: 32198804.0000 - val_loss: 25124326.0000\n",
            "Epoch 6/100\n",
            "35/35 [==============================] - 0s 3ms/step - loss: 31687768.0000 - val_loss: 24539832.0000\n",
            "Epoch 7/100\n",
            "35/35 [==============================] - 0s 4ms/step - loss: 30916250.0000 - val_loss: 23710598.0000\n",
            "Epoch 8/100\n",
            "35/35 [==============================] - 0s 3ms/step - loss: 29841282.0000 - val_loss: 22660606.0000\n",
            "Epoch 9/100\n",
            "35/35 [==============================] - 0s 3ms/step - loss: 28463784.0000 - val_loss: 21325548.0000\n",
            "Epoch 10/100\n",
            "35/35 [==============================] - 0s 3ms/step - loss: 26807906.0000 - val_loss: 19669594.0000\n",
            "Epoch 11/100\n",
            "35/35 [==============================] - 0s 3ms/step - loss: 24825388.0000 - val_loss: 17907916.0000\n",
            "Epoch 12/100\n",
            "35/35 [==============================] - 0s 3ms/step - loss: 22712346.0000 - val_loss: 15964935.0000\n",
            "Epoch 13/100\n",
            "35/35 [==============================] - 0s 3ms/step - loss: 20467836.0000 - val_loss: 14009674.0000\n",
            "Epoch 14/100\n",
            "35/35 [==============================] - 0s 4ms/step - loss: 18240442.0000 - val_loss: 12121859.0000\n",
            "Epoch 15/100\n",
            "35/35 [==============================] - 0s 5ms/step - loss: 16072139.0000 - val_loss: 10429780.0000\n",
            "Epoch 16/100\n",
            "35/35 [==============================] - 0s 3ms/step - loss: 14103386.0000 - val_loss: 8926785.0000\n",
            "Epoch 17/100\n",
            "35/35 [==============================] - 0s 3ms/step - loss: 12375022.0000 - val_loss: 7624858.0000\n",
            "Epoch 18/100\n",
            "35/35 [==============================] - 0s 3ms/step - loss: 10868943.0000 - val_loss: 6629009.5000\n",
            "Epoch 19/100\n",
            "35/35 [==============================] - 0s 3ms/step - loss: 9626578.0000 - val_loss: 5793067.0000\n",
            "Epoch 20/100\n",
            "35/35 [==============================] - 0s 3ms/step - loss: 8596998.0000 - val_loss: 5153094.0000\n",
            "Epoch 21/100\n",
            "35/35 [==============================] - 0s 4ms/step - loss: 7732479.5000 - val_loss: 4652327.5000\n",
            "Epoch 22/100\n",
            "35/35 [==============================] - 0s 5ms/step - loss: 7022522.0000 - val_loss: 4236049.5000\n",
            "Epoch 23/100\n",
            "35/35 [==============================] - 0s 4ms/step - loss: 6425205.0000 - val_loss: 3939910.2500\n",
            "Epoch 24/100\n",
            "35/35 [==============================] - 0s 3ms/step - loss: 5939993.5000 - val_loss: 3705185.0000\n",
            "Epoch 25/100\n",
            "35/35 [==============================] - 0s 3ms/step - loss: 5546744.5000 - val_loss: 3534545.7500\n",
            "Epoch 26/100\n",
            "35/35 [==============================] - 0s 3ms/step - loss: 5241479.5000 - val_loss: 3429288.7500\n",
            "Epoch 27/100\n",
            "35/35 [==============================] - 0s 3ms/step - loss: 4978120.0000 - val_loss: 3323204.0000\n",
            "Epoch 28/100\n",
            "35/35 [==============================] - 0s 3ms/step - loss: 4782333.5000 - val_loss: 3254017.7500\n",
            "Epoch 29/100\n",
            "35/35 [==============================] - 0s 4ms/step - loss: 4624748.0000 - val_loss: 3238757.7500\n",
            "Epoch 30/100\n",
            "35/35 [==============================] - 0s 4ms/step - loss: 4493156.5000 - val_loss: 3214698.2500\n",
            "Epoch 31/100\n",
            "35/35 [==============================] - 0s 4ms/step - loss: 4387202.0000 - val_loss: 3181016.0000\n",
            "Epoch 32/100\n",
            "35/35 [==============================] - 0s 3ms/step - loss: 4303594.5000 - val_loss: 3195914.5000\n",
            "Epoch 33/100\n",
            "35/35 [==============================] - 0s 3ms/step - loss: 4225122.0000 - val_loss: 3182671.0000\n",
            "Epoch 34/100\n",
            "35/35 [==============================] - 0s 3ms/step - loss: 4166249.5000 - val_loss: 3182148.7500\n",
            "Epoch 35/100\n",
            "35/35 [==============================] - 0s 3ms/step - loss: 4104071.2500 - val_loss: 3152387.2500\n",
            "Epoch 36/100\n",
            "35/35 [==============================] - 0s 3ms/step - loss: 4057552.2500 - val_loss: 3150532.0000\n",
            "Epoch 37/100\n",
            "35/35 [==============================] - 0s 6ms/step - loss: 4011524.5000 - val_loss: 3140077.7500\n",
            "Epoch 38/100\n",
            "35/35 [==============================] - 0s 4ms/step - loss: 3971501.2500 - val_loss: 3113503.2500\n",
            "Epoch 39/100\n",
            "35/35 [==============================] - 0s 4ms/step - loss: 3932032.0000 - val_loss: 3097029.5000\n",
            "Epoch 40/100\n",
            "35/35 [==============================] - 0s 3ms/step - loss: 3885830.0000 - val_loss: 3101612.0000\n",
            "Epoch 41/100\n",
            "35/35 [==============================] - 0s 3ms/step - loss: 3857190.5000 - val_loss: 3064955.0000\n",
            "Epoch 42/100\n",
            "35/35 [==============================] - 0s 3ms/step - loss: 3821522.0000 - val_loss: 3068357.7500\n",
            "Epoch 43/100\n",
            "35/35 [==============================] - 0s 3ms/step - loss: 3791979.7500 - val_loss: 3043595.2500\n",
            "Epoch 44/100\n",
            "35/35 [==============================] - 0s 4ms/step - loss: 3758850.2500 - val_loss: 3031358.7500\n",
            "Epoch 45/100\n",
            "35/35 [==============================] - 0s 4ms/step - loss: 3731334.2500 - val_loss: 3027124.0000\n",
            "Epoch 46/100\n",
            "35/35 [==============================] - 0s 3ms/step - loss: 3700619.5000 - val_loss: 2994172.2500\n",
            "Epoch 47/100\n",
            "35/35 [==============================] - 0s 4ms/step - loss: 3676984.0000 - val_loss: 2986438.7500\n",
            "Epoch 48/100\n",
            "35/35 [==============================] - 0s 3ms/step - loss: 3650681.7500 - val_loss: 2975811.7500\n",
            "Epoch 49/100\n",
            "35/35 [==============================] - 0s 3ms/step - loss: 3629073.0000 - val_loss: 2977263.0000\n",
            "Epoch 50/100\n",
            "35/35 [==============================] - 0s 3ms/step - loss: 3606820.5000 - val_loss: 2929891.2500\n",
            "Epoch 51/100\n",
            "35/35 [==============================] - 0s 3ms/step - loss: 3582058.0000 - val_loss: 2938407.7500\n",
            "Epoch 52/100\n",
            "35/35 [==============================] - 0s 4ms/step - loss: 3561338.5000 - val_loss: 2931513.7500\n",
            "Epoch 53/100\n",
            "35/35 [==============================] - 0s 3ms/step - loss: 3534617.7500 - val_loss: 2933852.0000\n",
            "Epoch 54/100\n",
            "35/35 [==============================] - 0s 3ms/step - loss: 3513081.0000 - val_loss: 2910807.7500\n",
            "Epoch 55/100\n",
            "35/35 [==============================] - 0s 4ms/step - loss: 3503791.0000 - val_loss: 2929621.0000\n",
            "Epoch 56/100\n",
            "35/35 [==============================] - 0s 4ms/step - loss: 3473574.0000 - val_loss: 2885648.0000\n",
            "Epoch 57/100\n",
            "35/35 [==============================] - 0s 3ms/step - loss: 3456313.5000 - val_loss: 2865343.0000\n",
            "Epoch 58/100\n",
            "35/35 [==============================] - 0s 3ms/step - loss: 3442820.0000 - val_loss: 2858474.7500\n",
            "Epoch 59/100\n",
            "35/35 [==============================] - 0s 4ms/step - loss: 3422490.7500 - val_loss: 2834649.0000\n",
            "Epoch 60/100\n",
            "35/35 [==============================] - 0s 4ms/step - loss: 3407430.0000 - val_loss: 2861813.0000\n",
            "Epoch 61/100\n",
            "35/35 [==============================] - 0s 4ms/step - loss: 3388605.0000 - val_loss: 2850899.0000\n",
            "Epoch 62/100\n",
            "35/35 [==============================] - 0s 3ms/step - loss: 3377538.5000 - val_loss: 2837732.7500\n",
            "Epoch 63/100\n",
            "35/35 [==============================] - 0s 4ms/step - loss: 3359834.5000 - val_loss: 2811910.0000\n",
            "Epoch 64/100\n",
            "35/35 [==============================] - 0s 3ms/step - loss: 3346460.2500 - val_loss: 2830088.0000\n",
            "Epoch 65/100\n",
            "35/35 [==============================] - 0s 3ms/step - loss: 3333208.7500 - val_loss: 2797592.5000\n",
            "Epoch 66/100\n",
            "35/35 [==============================] - 0s 6ms/step - loss: 3315958.5000 - val_loss: 2819924.5000\n",
            "Epoch 67/100\n",
            "35/35 [==============================] - 0s 6ms/step - loss: 3301295.7500 - val_loss: 2797941.7500\n",
            "Epoch 68/100\n",
            "35/35 [==============================] - 0s 5ms/step - loss: 3288321.0000 - val_loss: 2787738.2500\n",
            "Epoch 69/100\n",
            "35/35 [==============================] - 0s 5ms/step - loss: 3277676.7500 - val_loss: 2800843.7500\n",
            "Epoch 70/100\n",
            "35/35 [==============================] - 0s 5ms/step - loss: 3260262.2500 - val_loss: 2772251.2500\n",
            "Epoch 71/100\n",
            "35/35 [==============================] - 0s 5ms/step - loss: 3249522.5000 - val_loss: 2776574.5000\n",
            "Epoch 72/100\n",
            "35/35 [==============================] - 0s 8ms/step - loss: 3239380.2500 - val_loss: 2764278.0000\n",
            "Epoch 73/100\n",
            "35/35 [==============================] - 0s 5ms/step - loss: 3228653.5000 - val_loss: 2753954.0000\n",
            "Epoch 74/100\n",
            "35/35 [==============================] - 0s 5ms/step - loss: 3217302.5000 - val_loss: 2748262.5000\n",
            "Epoch 75/100\n",
            "35/35 [==============================] - 0s 6ms/step - loss: 3211651.2500 - val_loss: 2784400.0000\n",
            "Epoch 76/100\n",
            "35/35 [==============================] - 0s 6ms/step - loss: 3206088.7500 - val_loss: 2734880.5000\n",
            "Epoch 77/100\n",
            "35/35 [==============================] - 0s 6ms/step - loss: 3187066.5000 - val_loss: 2780523.2500\n",
            "Epoch 78/100\n",
            "35/35 [==============================] - 0s 5ms/step - loss: 3180700.7500 - val_loss: 2736735.0000\n",
            "Epoch 79/100\n",
            "35/35 [==============================] - 0s 6ms/step - loss: 3175258.0000 - val_loss: 2762000.5000\n",
            "Epoch 80/100\n",
            "35/35 [==============================] - 0s 5ms/step - loss: 3159418.7500 - val_loss: 2754382.7500\n",
            "Epoch 81/100\n",
            "35/35 [==============================] - 0s 5ms/step - loss: 3152291.2500 - val_loss: 2726994.7500\n",
            "Epoch 82/100\n",
            "35/35 [==============================] - 0s 6ms/step - loss: 3142344.7500 - val_loss: 2725071.0000\n",
            "Epoch 83/100\n",
            "35/35 [==============================] - 0s 6ms/step - loss: 3133628.7500 - val_loss: 2751740.2500\n",
            "Epoch 84/100\n",
            "35/35 [==============================] - 0s 4ms/step - loss: 3128481.0000 - val_loss: 2702933.0000\n",
            "Epoch 85/100\n",
            "35/35 [==============================] - 0s 4ms/step - loss: 3121845.7500 - val_loss: 2723601.5000\n",
            "Epoch 86/100\n",
            "35/35 [==============================] - 0s 3ms/step - loss: 3110239.7500 - val_loss: 2721146.2500\n",
            "Epoch 87/100\n",
            "35/35 [==============================] - 0s 4ms/step - loss: 3103729.2500 - val_loss: 2728278.0000\n",
            "Epoch 88/100\n",
            "35/35 [==============================] - 0s 4ms/step - loss: 3095187.2500 - val_loss: 2727808.0000\n",
            "Epoch 89/100\n",
            "35/35 [==============================] - 0s 3ms/step - loss: 3087678.5000 - val_loss: 2717076.7500\n",
            "Epoch 90/100\n",
            "35/35 [==============================] - 0s 3ms/step - loss: 3082168.7500 - val_loss: 2714357.7500\n",
            "Epoch 91/100\n",
            "35/35 [==============================] - 0s 4ms/step - loss: 3073792.2500 - val_loss: 2684417.0000\n",
            "Epoch 92/100\n",
            "35/35 [==============================] - 0s 3ms/step - loss: 3072232.7500 - val_loss: 2749131.5000\n",
            "Epoch 93/100\n",
            "35/35 [==============================] - 0s 3ms/step - loss: 3059636.2500 - val_loss: 2715527.0000\n",
            "Epoch 94/100\n",
            "35/35 [==============================] - 0s 3ms/step - loss: 3051568.5000 - val_loss: 2731096.5000\n",
            "Epoch 95/100\n",
            "35/35 [==============================] - 0s 3ms/step - loss: 3052705.0000 - val_loss: 2718926.5000\n",
            "Epoch 96/100\n",
            "35/35 [==============================] - 0s 4ms/step - loss: 3044295.0000 - val_loss: 2702739.7500\n",
            "Epoch 97/100\n",
            "35/35 [==============================] - 0s 3ms/step - loss: 3041509.7500 - val_loss: 2729155.7500\n",
            "Epoch 98/100\n",
            "35/35 [==============================] - 0s 3ms/step - loss: 3034783.0000 - val_loss: 2702908.2500\n",
            "Epoch 99/100\n",
            "35/35 [==============================] - 0s 3ms/step - loss: 3027452.5000 - val_loss: 2705121.5000\n",
            "Epoch 100/100\n",
            "35/35 [==============================] - 0s 3ms/step - loss: 3025432.2500 - val_loss: 2683519.7500\n"
          ]
        }
      ]
    },
    {
      "cell_type": "code",
      "source": [
        "y_pred = model.predict(X_test)"
      ],
      "metadata": {
        "colab": {
          "base_uri": "https://localhost:8080/"
        },
        "id": "Dbo0qfUEJlYc",
        "outputId": "2b79355a-347c-4cc8-b0a6-6b7840910332"
      },
      "execution_count": null,
      "outputs": [
        {
          "output_type": "stream",
          "name": "stdout",
          "text": [
            "4/4 [==============================] - 0s 4ms/step\n"
          ]
        }
      ]
    },
    {
      "cell_type": "code",
      "source": [
        "mse = mean_squared_error(y_test, y_pred)\n",
        "print(f\"Mean Squared Error: {mse}\")"
      ],
      "metadata": {
        "colab": {
          "base_uri": "https://localhost:8080/"
        },
        "id": "mKIhqpvyJqID",
        "outputId": "f1b0db87-ab46-4e34-ad2d-3d9d947593ff"
      },
      "execution_count": null,
      "outputs": [
        {
          "output_type": "stream",
          "name": "stdout",
          "text": [
            "Mean Squared Error: 2899654.5882692626\n"
          ]
        }
      ]
    },
    {
      "cell_type": "code",
      "source": [
        "plt.plot(history.history['loss'], label='train_loss')\n",
        "plt.plot(history.history['val_loss'], label='val_loss')\n",
        "plt.xlabel('Epochs')\n",
        "plt.ylabel('Loss')\n",
        "plt.legend()\n",
        "plt.show()"
      ],
      "metadata": {
        "colab": {
          "base_uri": "https://localhost:8080/",
          "height": 465
        },
        "id": "JNalaRRzJulB",
        "outputId": "d101b172-e3c3-4d0e-c069-d74edbb58492"
      },
      "execution_count": null,
      "outputs": [
        {
          "output_type": "display_data",
          "data": {
            "text/plain": [
              "<Figure size 640x480 with 1 Axes>"
            ],
            "image/png": "[encoded data removed]"
          },
          "metadata": {}
        }
      ]
    },
    {
      "cell_type": "code",
      "source": [
        "model.save('house_price_prediction_model.keras')"
      ],
      "metadata": {
        "id": "UJCS3_ejJ0KO"
      },
      "execution_count": null,
      "outputs": []
    },
    {
      "cell_type": "markdown",
      "source": [
        "#How to Run\n",
        "1)Clone this repository.\n",
        "\n",
        "2)Ensure you have all the required packages installed.\n",
        "\n",
        "3)Download the Kaggle Housing Prices dataset and place housing.csv in the root directory of this project.\n",
        "\n",
        "4)Run the Jupyter Notebook or Python script to see the results.\n",
        "#Results\n",
        "The model achieves a good predictive performance with a mean squared error of approximately 2899654.5882692626 on the test set. The training and validation loss plots provide insights into the model's learning process. The trained model is saved in the native Keras format for future use."
      ],
      "metadata": {
        "id": "8RlmwAzCRspw"
      }
    }
  ]
}