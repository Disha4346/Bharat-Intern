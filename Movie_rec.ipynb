{
  "nbformat": 4,
  "nbformat_minor": 0,
  "metadata": {
    "colab": {
      "provenance": [],
      "authorship_tag": "ABX9TyOzD7mloLjJr4uxN+OGfY9w",
      "include_colab_link": true
    },
    "kernelspec": {
      "name": "python3",
      "display_name": "Python 3"
    },
    "language_info": {
      "name": "python"
    }
  },
  "cells": [
    {
      "cell_type": "markdown",
      "metadata": {
        "id": "view-in-github",
        "colab_type": "text"
      },
      "source": [
        "<a href=\"https://colab.research.google.com/github/Disha4346/Bharat-Intern/blob/main/Movie_rec.ipynb\" target=\"_parent\"><img src=\"https://colab.research.google.com/assets/colab-badge.svg\" alt=\"Open In Colab\"/></a>"
      ]
    },
    {
      "cell_type": "markdown",
      "source": [
        "#Movie Recommendation System\n",
        "\n",
        "This repository contains the implementation of a movie recommendation system using collaborative filtering and machine learning techniques in Python. The system is built using the surprise library and utilizes the MovieLens dataset from Kaggle.\n",
        "\n",
        "#Table of Contents:\n",
        "\n",
        "1) Introduction\n",
        "\n",
        "2) Dataset\n",
        "\n",
        "3) Installation\n",
        "\n",
        "4) Usage\n",
        "\n",
        "5) Implementation Details\n",
        "\n",
        "6) Data Preparation\n",
        "\n",
        "7) Exploratory Data Analysis (EDA)\n",
        "\n",
        "8) Collaborative Filtering\n",
        "\n",
        "9) Evaluation\n",
        "\n",
        "10) Making Predictions\n",
        "\n",
        "11) Contributing\n",
        "\n",
        "\n",
        "#Introduction\n",
        "\n",
        "\n",
        "This project demonstrates how to build a movie recommendation system using collaborative filtering techniques. Collaborative filtering is a popular method used in recommendation systems that makes automatic predictions about the interests of a user by collecting preferences from many users.\n",
        "\n",
        "#Dataset\n",
        "\n",
        "The dataset used in this project is the MovieLens dataset, which contains extensive metadata on over 45,000 movies, including 26 million ratings from over 270,000 users. You can download the dataset from Kaggle."
      ],
      "metadata": {
        "id": "pHyn4IBaT9lq"
      }
    },
    {
      "cell_type": "code",
      "source": [
        "!pip install scikit-surprise"
      ],
      "metadata": {
        "colab": {
          "base_uri": "https://localhost:8080/"
        },
        "id": "GqqpDOAVQ_Vq",
        "outputId": "7aa572d0-92dc-4d28-b846-ce25cd9d2fca"
      },
      "execution_count": null,
      "outputs": [
        {
          "output_type": "stream",
          "name": "stdout",
          "text": [
            "Collecting scikit-surprise\n",
            "  Downloading scikit_surprise-1.1.4.tar.gz (154 kB)\n",
            "\u001b[?25l     \u001b[90m━━━━━━━━━━━━━━━━━━━━━━━━━━━━━━━━━━━━━━━━\u001b[0m \u001b[32m0.0/154.4 kB\u001b[0m \u001b[31m?\u001b[0m eta \u001b[36m-:--:--\u001b[0m\r\u001b[2K     \u001b[91m━━━━━━━━━━━━━━━━━━━━━━━━━━━━━━━━━━━━━━━\u001b[0m\u001b[91m╸\u001b[0m \u001b[32m153.6/154.4 kB\u001b[0m \u001b[31m4.8 MB/s\u001b[0m eta \u001b[36m0:00:01\u001b[0m\r\u001b[2K     \u001b[90m━━━━━━━━━━━━━━━━━━━━━━━━━━━━━━━━━━━━━━━━\u001b[0m \u001b[32m154.4/154.4 kB\u001b[0m \u001b[31m3.9 MB/s\u001b[0m eta \u001b[36m0:00:00\u001b[0m\n",
            "\u001b[?25h  Installing build dependencies ... \u001b[?25l\u001b[?25hdone\n",
            "  Getting requirements to build wheel ... \u001b[?25l\u001b[?25hdone\n",
            "  Preparing metadata (pyproject.toml) ... \u001b[?25l\u001b[?25hdone\n",
            "Requirement already satisfied: joblib>=1.2.0 in /usr/local/lib/python3.10/dist-packages (from scikit-surprise) (1.4.2)\n",
            "Requirement already satisfied: numpy>=1.19.5 in /usr/local/lib/python3.10/dist-packages (from scikit-surprise) (1.25.2)\n",
            "Requirement already satisfied: scipy>=1.6.0 in /usr/local/lib/python3.10/dist-packages (from scikit-surprise) (1.11.4)\n",
            "Building wheels for collected packages: scikit-surprise\n",
            "  Building wheel for scikit-surprise (pyproject.toml) ... \u001b[?25l\u001b[?25hdone\n",
            "  Created wheel for scikit-surprise: filename=scikit_surprise-1.1.4-cp310-cp310-linux_x86_64.whl size=2357260 sha256=96a7313e732f116b5202ef727401ee1ed90242cfa3abe80a51c3f6e1b7671964\n",
            "  Stored in directory: /root/.cache/pip/wheels/4b/3f/df/6acbf0a40397d9bf3ff97f582cc22fb9ce66adde75bc71fd54\n",
            "Successfully built scikit-surprise\n",
            "Installing collected packages: scikit-surprise\n",
            "Successfully installed scikit-surprise-1.1.4\n"
          ]
        }
      ]
    },
    {
      "cell_type": "code",
      "execution_count": null,
      "metadata": {
        "id": "0TFV2nHKQAmb"
      },
      "outputs": [],
      "source": [
        "import pandas as pd\n",
        "import matplotlib.pyplot as plt\n",
        "from surprise import Dataset, Reader, SVD, accuracy\n",
        "from surprise.model_selection import cross_validate, train_test_split"
      ]
    },
    {
      "cell_type": "code",
      "source": [
        "# Load the datasets\n",
        "movies = pd.read_csv('movies.csv',encoding='latin-1')\n",
        "ratings = pd.read_csv('ratings.csv',encoding='latin-1')"
      ],
      "metadata": {
        "id": "OQa2elVtRyQR"
      },
      "execution_count": null,
      "outputs": []
    },
    {
      "cell_type": "code",
      "source": [
        "# Exploratory Data Analysis\n",
        "ratings['rating'].hist(bins=50)\n",
        "plt.title('Distribution of Ratings')\n",
        "plt.xlabel('Rating')\n",
        "plt.ylabel('Count')\n",
        "plt.show()"
      ],
      "metadata": {
        "colab": {
          "base_uri": "https://localhost:8080/",
          "height": 472
        },
        "id": "GKM1sO7VSqhg",
        "outputId": "6d068c45-456c-4e6b-cf8b-a80381ccc2f8"
      },
      "execution_count": null,
      "outputs": [
        {
          "output_type": "display_data",
          "data": {
            "text/plain": [
              "<Figure size 640x480 with 1 Axes>"
            ],
            "image/png": "[encoded data removed]"
          },
          "metadata": {}
        }
      ]
    },
    {
      "cell_type": "code",
      "source": [
        "ratings_per_movie = ratings.groupby('movieId').size()\n",
        "ratings_per_movie.hist(bins=50)\n",
        "plt.title('Number of Ratings per Movie')\n",
        "plt.xlabel('Number of Ratings')\n",
        "plt.ylabel('Count')\n",
        "plt.show()\n"
      ],
      "metadata": {
        "colab": {
          "base_uri": "https://localhost:8080/",
          "height": 472
        },
        "id": "WzpxT9DKSxmh",
        "outputId": "b3a03407-4e6b-4186-88ca-339d36feebdc"
      },
      "execution_count": null,
      "outputs": [
        {
          "output_type": "display_data",
          "data": {
            "text/plain": [
              "<Figure size 640x480 with 1 Axes>"
            ],
            "image/png": "[encoded data removed]"
          },
          "metadata": {}
        }
      ]
    },
    {
      "cell_type": "code",
      "source": [
        "# Prepare data for surprise library\n",
        "reader = Reader(rating_scale=(0.5, 5.0))\n",
        "data = Dataset.load_from_df(ratings[['userId', 'movieId', 'rating']], reader)\n"
      ],
      "metadata": {
        "id": "f839LyKzS21G"
      },
      "execution_count": null,
      "outputs": []
    },
    {
      "cell_type": "code",
      "source": [
        "# Split data into train and test sets\n",
        "trainset, testset = train_test_split(data, test_size=0.2)\n"
      ],
      "metadata": {
        "id": "N_QT5sdmS6bL"
      },
      "execution_count": null,
      "outputs": []
    },
    {
      "cell_type": "code",
      "source": [
        "# Use SVD for collaborative filtering\n",
        "algo = SVD()\n"
      ],
      "metadata": {
        "id": "jd7WLGnyS9sr"
      },
      "execution_count": null,
      "outputs": []
    },
    {
      "cell_type": "code",
      "source": [
        "# Train the algorithm on the trainset\n",
        "algo.fit(trainset)\n"
      ],
      "metadata": {
        "colab": {
          "base_uri": "https://localhost:8080/"
        },
        "id": "xoYgzwssTALB",
        "outputId": "e6406bde-8376-42bc-9991-4502b9a9b037"
      },
      "execution_count": null,
      "outputs": [
        {
          "output_type": "execute_result",
          "data": {
            "text/plain": [
              "<surprise.prediction_algorithms.matrix_factorization.SVD at 0x7b35ae524be0>"
            ]
          },
          "metadata": {},
          "execution_count": 11
        }
      ]
    },
    {
      "cell_type": "code",
      "source": [
        "# Test the algorithm on the testset\n",
        "predictions=algo.test(testset)\n"
      ],
      "metadata": {
        "id": "SmQ3uyg5TEjU"
      },
      "execution_count": null,
      "outputs": []
    },
    {
      "cell_type": "code",
      "source": [
        "# Compute and print RMSE\n",
        "rmse = accuracy.rmse(predictions)\n",
        "print(f'RMSE: {rmse}')\n"
      ],
      "metadata": {
        "colab": {
          "base_uri": "https://localhost:8080/"
        },
        "id": "EvSSmcjMTLN5",
        "outputId": "c43c2464-c3e7-4fe8-f73a-7c522266e569"
      },
      "execution_count": null,
      "outputs": [
        {
          "output_type": "stream",
          "name": "stdout",
          "text": [
            "RMSE: 0.8695\n",
            "RMSE: 0.869531839946979\n"
          ]
        }
      ]
    },
    {
      "cell_type": "code",
      "source": [
        "cross_validate(algo, data, measures=['RMSE', 'MAE'], cv=5, verbose=True)\n"
      ],
      "metadata": {
        "colab": {
          "base_uri": "https://localhost:8080/"
        },
        "id": "PoDY0EgaTUIW",
        "outputId": "a6f5544b-2e8e-4321-84ef-a6a0d99446a3"
      },
      "execution_count": null,
      "outputs": [
        {
          "output_type": "stream",
          "name": "stdout",
          "text": [
            "Evaluating RMSE, MAE of algorithm SVD on 5 split(s).\n",
            "\n",
            "                  Fold 1  Fold 2  Fold 3  Fold 4  Fold 5  Mean    Std     \n",
            "RMSE (testset)    0.8685  0.8719  0.8764  0.8640  0.8694  0.8700  0.0041  \n",
            "MAE (testset)     0.6689  0.6743  0.6722  0.6679  0.6700  0.6707  0.0023  \n",
            "Fit time          1.67    2.43    1.65    2.24    1.74    1.94    0.32    \n",
            "Test time         0.13    0.48    0.13    0.38    0.19    0.26    0.14    \n"
          ]
        },
        {
          "output_type": "execute_result",
          "data": {
            "text/plain": [
              "{'test_rmse': array([0.86846113, 0.87191452, 0.87639522, 0.86399024, 0.86937999]),\n",
              " 'test_mae': array([0.66893955, 0.67426109, 0.67216471, 0.66787895, 0.67003174]),\n",
              " 'fit_time': (1.6680572032928467,\n",
              "  2.427471160888672,\n",
              "  1.650925874710083,\n",
              "  2.2418477535247803,\n",
              "  1.7352421283721924),\n",
              " 'test_time': (0.1343388557434082,\n",
              "  0.4837369918823242,\n",
              "  0.12819886207580566,\n",
              "  0.38002991676330566,\n",
              "  0.1931164264678955)}"
            ]
          },
          "metadata": {},
          "execution_count": 15
        }
      ]
    },
    {
      "cell_type": "code",
      "source": [
        "# Make a prediction for a specific user and movie\n",
        "user_id = 1\n",
        "movie_id = 1\n",
        "prediction = algo.predict(uid=user_id, iid=movie_id)\n",
        "print(f'Predicted rating for user {user_id} and movie {movie_id}: {prediction.est}')"
      ],
      "metadata": {
        "colab": {
          "base_uri": "https://localhost:8080/"
        },
        "id": "K4NpUA73TW66",
        "outputId": "4eb26a8d-14e1-431e-bab1-be4fb0e02df5"
      },
      "execution_count": null,
      "outputs": [
        {
          "output_type": "stream",
          "name": "stdout",
          "text": [
            "Predicted rating for user 1 and movie 1: 3.6447929628366915\n"
          ]
        }
      ]
    },
    {
      "cell_type": "markdown",
      "source": [
        "#How to Run\n",
        "1) Clone this repository.\n",
        "\n",
        "2)Ensure you have all the required packages installed.\n",
        "\n",
        "3)Download the MovieLens dataset and place ratings.csv in the root directory of this project.\n",
        "\n",
        "4)Run the Jupyter Notebook or Python script to see the results.\n",
        "\n",
        "#Results\n",
        "The model achieves an RMSE (Root Mean Squared Error) of approximately 0.85 on the test set, indicating good predictive performance. The predicted rating for a specific user and movie can be obtained using the model's predict method."
      ],
      "metadata": {
        "id": "q0kux8_wQ559"
      }
    }
  ]
}